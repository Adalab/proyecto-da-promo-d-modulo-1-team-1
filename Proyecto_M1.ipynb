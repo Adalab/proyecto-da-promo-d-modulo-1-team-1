{
 "cells": [
  {
   "cell_type": "markdown",
   "metadata": {},
   "source": [
    "# Ejercicio final de Las ahorcadas"
   ]
  },
  {
   "cell_type": "markdown",
   "metadata": {},
   "source": [
    "probando"
   ]
  },
  {
   "cell_type": "code",
   "execution_count": 1,
   "metadata": {},
   "outputs": [],
   "source": [
    "import random\n",
    "\n",
    "# Lista de palabras para el juego\n",
    "palabras = [\"adalab\", \"ahorcada\", \"python\", \"mapache\", \"suricata\"]\n",
    "\n",
    "# Función principal del juego\n",
    "def jugar_ahorcado():\n",
    "    print(\"¡Bienvenida al juego del Ahorcado! 😄\")\n",
    "    print(\"¡Demuestra que tienes lo que hay que tener para ganar!\")\n",
    "    print(\"¡Introduce una letra o escribe salir para abandonar el juego!\")\n",
    "    \n",
    "    palabra_secreta = random.choice(palabras) # Selección de palabra aleatoria\n",
    "    guiones_por_palabra = [\"_\"] * len(palabra_secreta)  # Tranforma la palabra en guiones\n",
    "    intentos_restantes = 6  # Máximo de intentos\n",
    "    letras_erroneas = []  # Letras incorrectas del jugador\n",
    "    letras_adivinadas = []\n",
    "\n",
    "    while intentos_restantes > 0 and \"_\" in guiones_por_palabra:\n",
    "        print(\"\\nPalabra: \" + \" \".join(guiones_por_palabra))\n",
    "        print(f\"Letras incorrectas: {', '.join(letras_erroneas)}\")\n",
    "        print(f\"Intentos restantes: {intentos_restantes}\")\n",
    "        \n",
    "        letra = input(\"Introduce una letra: \").lower() # Pide una letra al jugador.\n",
    "        \n",
    "        if letra == \"salir\":\n",
    "            print(\"¡Qué pena que te vas! Espero que vuelvas pronto.\")\n",
    "            break\n",
    "        elif len(letra) != 1 or not letra.isalpha(): # Validar la entrada\n",
    "                print(\"¡Por favor, escribe una letra válida! 📚\")\n",
    "                \n",
    "        elif letra in palabra_secreta: # Comprobar si la letra está en la palabra\n",
    "            if letra in letras_adivinadas:\n",
    "                intentos_restantes -= 1\n",
    "                print(\"¡Esa ya la has dicho! ¡Pero sigues siendo una crack! 😜\")\n",
    "                continue\n",
    "            else:\n",
    "                for i, l in enumerate(palabra_secreta): # Actualizar las letras adivinadas\n",
    "                    if l == letra:\n",
    "                        guiones_por_palabra[i] = letra\n",
    "                letras_adivinadas.append(letra)\n",
    "                print(\"¡Buenísima! Esa letra está en la palabra. 🎉\")\n",
    "                continue\n",
    "                \n",
    "        elif letra not in palabra_secreta:\n",
    "            letras_erroneas.append(letra)\n",
    "            intentos_restantes -= 1\n",
    "            print(\"¡Ay no! Esa no está... 😅\")\n"
   ]
  }
 ],
 "metadata": {
  "kernelspec": {
   "display_name": "Python 3",
   "language": "python",
   "name": "python3"
  },
  "language_info": {
   "codemirror_mode": {
    "name": "ipython",
    "version": 3
   },
   "file_extension": ".py",
   "mimetype": "text/x-python",
   "name": "python",
   "nbconvert_exporter": "python",
   "pygments_lexer": "ipython3",
   "version": "3.11.10"
  }
 },
 "nbformat": 4,
 "nbformat_minor": 2
}
